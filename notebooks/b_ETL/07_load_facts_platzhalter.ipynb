{
 "cells": [
  {
   "cell_type": "code",
   "execution_count": null,
   "id": "61897d15",
   "metadata": {},
   "outputs": [],
   "source": [
    "#weitere datenquellen"
   ]
  }
 ],
 "metadata": {
  "language_info": {
   "name": "python"
  }
 },
 "nbformat": 4,
 "nbformat_minor": 5
}
