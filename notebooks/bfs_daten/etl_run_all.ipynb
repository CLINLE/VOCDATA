{
 "cells": [
  {
   "cell_type": "code",
   "execution_count": null,
   "id": "31924b04",
   "metadata": {},
   "outputs": [],
   "source": [
    "#Orchestrator, der 01 → 04 → 05 → 06 in einem Rutsch ausführt\t"
   ]
  }
 ],
 "metadata": {
  "language_info": {
   "name": "python"
  }
 },
 "nbformat": 4,
 "nbformat_minor": 5
}
