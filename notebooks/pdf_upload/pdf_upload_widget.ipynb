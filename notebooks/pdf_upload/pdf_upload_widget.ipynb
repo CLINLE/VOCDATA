{
 "cells": [
  {
   "cell_type": "code",
   "execution_count": 2,
   "id": "3cec9ba3",
   "metadata": {},
   "outputs": [
    {
     "data": {
      "application/vnd.jupyter.widget-view+json": {
       "model_id": "e7886659c98640fdb2ba3243a3de0d96",
       "version_major": 2,
       "version_minor": 0
      },
      "text/plain": [
       "FileUpload(value=(), accept='.pdf', description='Upload', multiple=True)"
      ]
     },
     "metadata": {},
     "output_type": "display_data"
    }
   ],
   "source": [
    "#Set-up & Widget\n",
    "# Upload-Widget (ipywidgets 8.x) + PDF-Ingestion\n",
    "import sys, pathlib, importlib, ipywidgets as widgets\n",
    "from IPython.display import display\n",
    "\n",
    "# ----- Pfade ---------------------------------------------------------------\n",
    "PROJECT_ROOT = pathlib.Path.cwd().parents[1]          # …/vocdata\n",
    "SCRIPTS_DIR  = PROJECT_ROOT / \"scripts\"\n",
    "PDF_DIR      = PROJECT_ROOT / \"uploads\" / \"pdf\"\n",
    "PDF_DIR.mkdir(parents=True, exist_ok=True)\n",
    "\n",
    "if str(SCRIPTS_DIR) not in sys.path:\n",
    "    sys.path.insert(0, str(SCRIPTS_DIR))              # scripts/ importierbar\n",
    "\n",
    "pdf_ingest = importlib.import_module(\"pdf_upload.ingest\")    # Modul laden\n",
    "\n",
    "# ----- Widget --------------------------------------------------------------\n",
    "uploader = widgets.FileUpload(accept=\".pdf\", multiple=True, description=\"Upload\")\n",
    "display(uploader)\n",
    "\n",
    "def handle_upload(change):\n",
    "    for f in change[\"new\"]:                           # Tuple mit Datei-Dicts\n",
    "        dest = PDF_DIR / pathlib.Path(f[\"name\"]).name\n",
    "        dest.write_bytes(f[\"content\"])                # Datei speichern\n",
    "    pdf_ingest.ingest()                               # DB-Ingestion\n",
    "    uploader.value = ()                               # Widget leeren\n",
    "    print(\"🚀 Upload & Ingestion fertig.\")\n",
    "\n",
    "uploader.observe(handle_upload, names=\"value\")\n"
   ]
  },
  {
   "cell_type": "code",
   "execution_count": 4,
   "id": "c203b98e",
   "metadata": {},
   "outputs": [
    {
     "name": "stdout",
     "output_type": "stream",
     "text": [
      "PROJECT_ROOT : c:\\Users\\claud\\iCloudDrive\\Dokumente\\02_CLI\\Studium\\ZHAW\\Masterarbeit\\vocdata\n",
      "pdf_ingest   : c:\\Users\\claud\\iCloudDrive\\Dokumente\\02_CLI\\Studium\\ZHAW\\Masterarbeit\\vocdata\\scripts\\pdf_upload\\ingest.py\n",
      "PDF_DIR      : c:\\Users\\claud\\iCloudDrive\\Dokumente\\02_CLI\\Studium\\ZHAW\\Masterarbeit\\vocdata\\uploads\\pdf\n",
      "uploads/pdf  – enthaltene Dateien:\n",
      " - Berufliche Passagen im Lebenslauf.pdf\n",
      " - bildungsbericht_2023.pdf\n",
      " - ch_lva_eba_schmid_neumann_2016.pdf\n",
      " - ch_lva_jugendsicht_neuenschwander_etal_1998.pdf\n",
      " - ch_lva_leva_schmid_etal_2008.pdf\n",
      " - ch_norway_lva_schmid_2016.pdf\n",
      " - ch_studie_lva_leva_beruf_negrini_etal_2015.pdf\n",
      " - ehb_trendbericht_lva_kriesi_etal_2016.pdf\n",
      " - euope_2014_early_leaving.pdf\n",
      " - Maurer_2013_BB_und_Arbeitsmarkt.pdf\n"
     ]
    }
   ],
   "source": [
    "#Schnelltest\n",
    "\n",
    "# Einmalig ausführen, um Import & Ordner zu verifizieren\n",
    "import pathlib, sys, pprint\n",
    "print(\"PROJECT_ROOT :\", PROJECT_ROOT)\n",
    "print(\"pdf_ingest   :\", pdf_ingest.__file__)\n",
    "print(\"PDF_DIR      :\", PDF_DIR)\n",
    "print(\"uploads/pdf  – enthaltene Dateien:\")\n",
    "for p in PDF_DIR.glob(\"*.pdf\"):\n",
    "    print(\" -\", p.name)\n",
    "\n"
   ]
  }
 ],
 "metadata": {
  "kernelspec": {
   "display_name": "vocdata",
   "language": "python",
   "name": "python3"
  },
  "language_info": {
   "codemirror_mode": {
    "name": "ipython",
    "version": 3
   },
   "file_extension": ".py",
   "mimetype": "text/x-python",
   "name": "python",
   "nbconvert_exporter": "python",
   "pygments_lexer": "ipython3",
   "version": "3.11.13"
  }
 },
 "nbformat": 4,
 "nbformat_minor": 5
}
