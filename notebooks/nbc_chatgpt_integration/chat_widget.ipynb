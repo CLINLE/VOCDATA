{
 "cells": [
  {
   "cell_type": "code",
   "execution_count": 8,
   "id": "98bda652",
   "metadata": {},
   "outputs": [
    {
     "data": {
      "application/vnd.jupyter.widget-view+json": {
       "model_id": "8fb62d6fad424233b7d39683e0739375",
       "version_major": 2,
       "version_minor": 0
      },
      "text/plain": [
       "Text(value='', description='👤', placeholder='Frage eingeben …')"
      ]
     },
     "metadata": {},
     "output_type": "display_data"
    },
    {
     "data": {
      "application/vnd.jupyter.widget-view+json": {
       "model_id": "f44394fdbd6d4c9c8fd54e58e48aae0d",
       "version_major": 2,
       "version_minor": 0
      },
      "text/plain": [
       "Output(layout=Layout(border_bottom='1px solid #ccc', border_left='1px solid #ccc', border_right='1px solid #cc…"
      ]
     },
     "metadata": {},
     "output_type": "display_data"
    }
   ],
   "source": [
    "import sys, pathlib, ipywidgets as w\n",
    "from IPython.display import display, Markdown\n",
    "from openai import OpenAI\n",
    "\n",
    "# --- Pfadfix -------------------------------------------------------------\n",
    "PROJECT_ROOT = pathlib.Path.cwd().parents[1]           # .../vocdata\n",
    "sys.path.insert(0, str(PROJECT_ROOT / \"scripts\"))      # scripts/ importierbar\n",
    "\n",
    "from config import OPENAI_KEY\n",
    "\n",
    "# --- OpenAI-Client -------------------------------------------------------\n",
    "client = OpenAI(api_key=OPENAI_KEY)\n",
    "\n",
    "# --- Chat-Widget ---------------------------------------------------------\n",
    "inp = w.Text(placeholder=\"Frage eingeben …\", description=\"👤\")\n",
    "out = w.Output(layout={'border': '1px solid #ccc',\n",
    "                       'height': '250px',\n",
    "                       'overflow': 'auto'})\n",
    "\n",
    "def on_change(change):\n",
    "    if change['name'] == 'value' and change['new']:\n",
    "        q = change['new']\n",
    "        inp.value = ''\n",
    "        with out:\n",
    "            display(Markdown(f\"**Du:** {q}\"))\n",
    "            ans = client.chat.completions.create(\n",
    "                model=\"gpt-4o-mini\",\n",
    "                messages=[{\"role\": \"user\", \"content\": q}]\n",
    "            ).choices[0].message.content\n",
    "            display(Markdown(f\"*GPT:* {ans}\"))\n",
    "        out.scroll_to_bottom()\n",
    "\n",
    "inp.observe(on_change, names='value')\n",
    "display(inp, out)\n"
   ]
  }
 ],
 "metadata": {
  "kernelspec": {
   "display_name": "vocdata",
   "language": "python",
   "name": "python3"
  },
  "language_info": {
   "codemirror_mode": {
    "name": "ipython",
    "version": 3
   },
   "file_extension": ".py",
   "mimetype": "text/x-python",
   "name": "python",
   "nbconvert_exporter": "python",
   "pygments_lexer": "ipython3",
   "version": "3.11.13"
  }
 },
 "nbformat": 4,
 "nbformat_minor": 5
}
