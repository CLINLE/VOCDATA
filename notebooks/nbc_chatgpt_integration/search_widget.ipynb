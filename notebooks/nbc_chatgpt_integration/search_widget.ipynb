{
 "cells": [
  {
   "cell_type": "code",
   "execution_count": null,
   "id": "3bedce54",
   "metadata": {},
   "outputs": [],
   "source": [
    "# Pfad-Fix: Notebook liegt in notebooks/c_chatgpt_integration/\n",
    "import sys, pathlib, ipywidgets as w, pandas as pd\n",
    "from IPython.display import display, Markdown\n",
    "\n",
    "PROJECT_ROOT = pathlib.Path.cwd().parents[1]             # …/vocdata\n",
    "sys.path.insert(0, str(PROJECT_ROOT / \"scripts\"))         # scripts importierbar\n",
    "\n",
    "from chatgpt_config.search import search                  # Logik\n",
    "from chatgpt_config.summarize_pdf_files import summarize  # Kurz-Summary\n"
   ]
  },
  {
   "cell_type": "code",
   "execution_count": null,
   "id": "40265537",
   "metadata": {},
   "outputs": [],
   "source": [
    "# B) UI-Elemente anlegen\n",
    "# Eingabe- und Ausgabewidgets\n",
    "txt_query   = w.Text(placeholder=\"Suchbegriff …\", description=\"🔍\")\n",
    "btn_search  = w.Button(description=\"Suchen\")\n",
    "tbl_out     = w.Output()\n",
    "ddl_docs    = w.Dropdown(description=\"Dokument:\")\n",
    "sum_out     = w.Output(layout={'border': '1px solid #ddd', 'padding': '6px'})\n",
    "\n",
    "# Anzeige\n",
    "display(txt_query, btn_search, tbl_out, ddl_docs, sum_out)\n"
   ]
  },
  {
   "cell_type": "code",
   "execution_count": null,
   "id": "aa94c6c2",
   "metadata": {},
   "outputs": [],
   "source": [
    "# c) Callback-Funktionen\n",
    "def run_search(_):\n",
    "    # 1) Suche ausführen\n",
    "    df = search(txt_query.value.strip(), 20)\n",
    "    if df.empty:\n",
    "        ddl_docs.options = []\n",
    "        tbl_out.clear_output()\n",
    "        with tbl_out:\n",
    "            print(\"Keine Treffer.\")\n",
    "        return\n",
    "    \n",
    "    # 2) Tabelle zeigen\n",
    "    tbl_out.clear_output()\n",
    "    with tbl_out:\n",
    "        display(df[[\"doc_id\", \"filename\", \"snippet\"]])\n",
    "    \n",
    "    # 3) Dropdown füllen\n",
    "    ddl_docs.options = [(f\"{r.filename}\", r.doc_id) for r in df.itertuples()]\n",
    "    ddl_docs.value = None   # zurücksetzen\n",
    "\n",
    "def show_summary(change):\n",
    "    doc_id = change[\"new\"]\n",
    "    if doc_id:\n",
    "        text = summarize(doc_id)\n",
    "        sum_out.clear_output()\n",
    "        with sum_out:\n",
    "            display(Markdown(f\"**Zusammenfassung (ID {doc_id})**\"))\n",
    "            display(Markdown(text))\n",
    "\n",
    "# Events binden\n",
    "btn_search.on_click(run_search)\n",
    "ddl_docs.observe(show_summary, names=\"value\")\n"
   ]
  }
 ],
 "metadata": {
  "language_info": {
   "name": "python"
  }
 },
 "nbformat": 4,
 "nbformat_minor": 5
}
