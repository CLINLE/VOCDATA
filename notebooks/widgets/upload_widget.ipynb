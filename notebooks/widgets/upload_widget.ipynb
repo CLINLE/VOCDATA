{
 "cells": [
  {
   "cell_type": "code",
   "execution_count": null,
   "id": "a3530df2",
   "metadata": {},
   "outputs": [
    {
     "name": "stdout",
     "output_type": "stream",
     "text": [
      "Arbeitsverzeichnis: c:\\Users\\claud\\iCloudDrive\\Dokumente\\02_CLI\\Studium\\ZHAW\\Masterarbeit\\vocdata\\notebooks\\widgets\n",
      "Top-5 sys.path-Einträge:\n",
      "['c:\\\\Users\\\\claud\\\\iCloudDrive\\\\Dokumente\\\\02_CLI\\\\Studium\\\\ZHAW\\\\Masterarbeit',\n",
      " 'C:\\\\Program Files\\\\Spark\\\\spark-3.5.0-bin-hadoop3\\\\python',\n",
      " 'C:\\\\Program '\n",
      " 'Files\\\\Spark\\\\spark-3.5.0-bin-hadoop3\\\\python\\\\lib\\\\py4j-0.10.9.7-src.zip',\n",
      " 'c:\\\\ProgramData\\\\anaconda3\\\\envs\\\\vocdata\\\\python311.zip',\n",
      " 'c:\\\\ProgramData\\\\anaconda3\\\\envs\\\\vocdata\\\\DLLs']\n",
      "\n",
      "Existiert scripts/? False\n",
      "Inhalt von scripts/: []\n"
     ]
    }
   ],
   "source": [
    "import pathlib, sys, pprint, os\n",
    "\n",
    "print(\"Arbeitsverzeichnis:\", pathlib.Path.cwd())\n",
    "print(\"Top-5 sys.path-Einträge:\")\n",
    "pprint.pprint(sys.path[:5])\n",
    "\n",
    "root = pathlib.Path.cwd().parents[2]          # erwartete Projektwurzel\n",
    "scripts_dir = root / \"scripts\"\n",
    "print(\"\\nExistiert scripts/?\", scripts_dir.exists())\n",
    "print(\"Inhalt von scripts/:\", list(scripts_dir.glob(\"*.py\")))\n",
    "\n"
   ]
  },
  {
   "cell_type": "code",
   "execution_count": 5,
   "id": "6092138b",
   "metadata": {},
   "outputs": [
    {
     "data": {
      "application/vnd.jupyter.widget-view+json": {
       "model_id": "b4f97d22bcc54fd68d9c2682304a6d3f",
       "version_major": 2,
       "version_minor": 0
      },
      "text/plain": [
       "FileUpload(value=(), accept='.pdf', description='Upload', multiple=True)"
      ]
     },
     "metadata": {},
     "output_type": "display_data"
    }
   ],
   "source": [
    "import sys, pathlib, ipywidgets as widgets\n",
    "from IPython.display import display\n",
    "\n",
    "PROJECT_ROOT = pathlib.Path.cwd().parents[1]       # vocdata/\n",
    "SCRIPTS_DIR  = PROJECT_ROOT / \"scripts\"\n",
    "if str(SCRIPTS_DIR) not in sys.path:\n",
    "    sys.path.insert(0, str(SCRIPTS_DIR))\n",
    "\n",
    "import pdf_ingest\n",
    "\n",
    "uploader = widgets.FileUpload(accept='.pdf', multiple=True, description=\"Upload\")\n",
    "display(uploader)\n",
    "\n",
    "def handle_upload(change):\n",
    "    # change[\"new\"] ist ein Tuple mit Datei-Dicts (ipywidgets ≥8)\n",
    "    for file_dict in change[\"new\"]:\n",
    "        fname    = file_dict[\"name\"]\n",
    "        content  = file_dict[\"content\"]\n",
    "        (PROJECT_ROOT / \"uploads\" / \"pdf\" / fname).write_bytes(content)\n",
    "    pdf_ingest.ingest()                  # neue PDFs sofort laden\n",
    "    uploader.value = ()                  # Widget leeren\n",
    "    print(\"🚀 Upload & Ingestion fertig.\")\n",
    "\n",
    "uploader.observe(handle_upload, \"value\")\n",
    "\n",
    "\n",
    "\n",
    "\n"
   ]
  }
 ],
 "metadata": {
  "kernelspec": {
   "display_name": "vocdata",
   "language": "python",
   "name": "python3"
  },
  "language_info": {
   "codemirror_mode": {
    "name": "ipython",
    "version": 3
   },
   "file_extension": ".py",
   "mimetype": "text/x-python",
   "name": "python",
   "nbconvert_exporter": "python",
   "pygments_lexer": "ipython3",
   "version": "3.11.13"
  }
 },
 "nbformat": 4,
 "nbformat_minor": 5
}
